{
 "cells": [
  {
   "cell_type": "code",
   "execution_count": 1,
   "metadata": {},
   "outputs": [],
   "source": [
    "import pandas as pd\n",
    "import numpy as np\n",
    "import pickle"
   ]
  },
  {
   "cell_type": "markdown",
   "metadata": {},
   "source": [
    "Let's build the FAR and FRR and analyze the best threshold to use for this model"
   ]
  },
  {
   "cell_type": "markdown",
   "metadata": {},
   "source": [
    "# FAR"
   ]
  },
  {
   "cell_type": "markdown",
   "metadata": {},
   "source": [
    "We need the test dataset when those values are Fraud."
   ]
  },
  {
   "cell_type": "code",
   "execution_count": null,
   "metadata": {},
   "outputs": [],
   "source": [
    "a = []\n",
    "\n",
    "# get 100 X_test, where we have just fraud=1, at random\n",
    "for i in range(100):\n",
    "    # and get the probability of been fraud=0\n",
    "    yhat_class = model.predict(samples)\n",
    "    yhat_prob = model.predict_proba(samples)\n",
    "    class_index = yhat_class[0]\n",
    "    class_probability = yhat_prob[0, class_index] * 100\n",
    "    intp = int((class_probability))\n",
    "    # print(f'Predicted: {intp} %')\n",
    "    a.append(intp)\n",
    "\n",
    "# apply the threshold and save how many observations passes\n",
    "far = []\n",
    "threshold = []\n",
    "for i in range(100):\n",
    "    num = 0\n",
    "    for value in a:\n",
    "        if value > i:\n",
    "            num += 1\n",
    "    far.append(num)\n",
    "    threshold.appedn(i)\n",
    "\n",
    "far = np.array(far)\n",
    "far"
   ]
  },
  {
   "cell_type": "code",
   "execution_count": null,
   "metadata": {},
   "outputs": [],
   "source": []
  },
  {
   "cell_type": "code",
   "execution_count": null,
   "metadata": {},
   "outputs": [],
   "source": []
  },
  {
   "cell_type": "code",
   "execution_count": null,
   "metadata": {},
   "outputs": [],
   "source": []
  },
  {
   "cell_type": "code",
   "execution_count": null,
   "metadata": {},
   "outputs": [],
   "source": []
  },
  {
   "cell_type": "code",
   "execution_count": null,
   "metadata": {},
   "outputs": [],
   "source": []
  },
  {
   "cell_type": "code",
   "execution_count": null,
   "metadata": {},
   "outputs": [],
   "source": []
  }
 ],
 "metadata": {
  "interpreter": {
   "hash": "1240439443746b5f9dfe6cfce62c63bdd4144a488b9f4072675d2f50af5bb269"
  },
  "kernelspec": {
   "display_name": "Python 3.9.0 64-bit ('TeraThridChallenge-Classification-_wtxcFRW': pipenv)",
   "language": "python",
   "name": "python3"
  },
  "language_info": {
   "codemirror_mode": {
    "name": "ipython",
    "version": 3
   },
   "file_extension": ".py",
   "mimetype": "text/x-python",
   "name": "python",
   "nbconvert_exporter": "python",
   "pygments_lexer": "ipython3",
   "version": "3.9.0"
  },
  "orig_nbformat": 4
 },
 "nbformat": 4,
 "nbformat_minor": 2
}
